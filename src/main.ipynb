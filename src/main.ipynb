{
 "cells": [
  {
   "cell_type": "code",
   "execution_count": 1,
   "metadata": {},
   "outputs": [],
   "source": [
    "import pandas as pd\n",
    "from sklearn.feature_extraction.text import TfidfVectorizer\n",
    "from sklearn.metrics.pairwise import cosine_similarity"
   ]
  },
  {
   "cell_type": "code",
   "execution_count": 2,
   "metadata": {},
   "outputs": [],
   "source": [
    "# Define your dataset path (update this path to where your CSV file is located)\n",
    "dataset_path = '../data/spotify_songs.csv'\n",
    "\n",
    "# Load the dataset into a DataFrame\n",
    "df = pd.read_csv(dataset_path)"
   ]
  },
  {
   "cell_type": "code",
   "execution_count": 3,
   "metadata": {},
   "outputs": [],
   "source": [
    "# Ensure the 'text' column is treated as string and create a list of song lyrics\n",
    "texts = df['text'].astype(str).tolist()"
   ]
  },
  {
   "cell_type": "code",
   "execution_count": 4,
   "metadata": {},
   "outputs": [],
   "source": [
    "# Create a TF-IDF vectorizer instance and fit it on the song lyrics\n",
    "vectorizer = TfidfVectorizer()\n",
    "tfidf_matrix = vectorizer.fit_transform(texts)"
   ]
  },
  {
   "cell_type": "code",
   "execution_count": 5,
   "metadata": {},
   "outputs": [],
   "source": [
    "def find_best_match(query):\n",
    "    \"\"\"\n",
    "    Given a lyric snippet (query), this function vectorizes the query,\n",
    "    computes cosine similarity with the entire TF-IDF matrix,\n",
    "    and returns the index of the best matching song along with its similarity score.\n",
    "    \"\"\"\n",
    "    # Preprocess and vectorize the query\n",
    "    query = query.lower()  # convert to lowercase for consistency\n",
    "    query_vector = vectorizer.transform([query])\n",
    "    \n",
    "    # Compute cosine similarity between the query vector and all song vectors\n",
    "    similarities = cosine_similarity(query_vector, tfidf_matrix)\n",
    "    \n",
    "    # Get the index of the song with the highest similarity score\n",
    "    best_index = similarities.argmax()\n",
    "    best_score = similarities[0, best_index]\n",
    "    return best_index, best_score"
   ]
  },
  {
   "cell_type": "code",
   "execution_count": 7,
   "metadata": {},
   "outputs": [
    {
     "name": "stdout",
     "output_type": "stream",
     "text": [
      "Best Match:\n",
      "Artist: John Mellencamp\n",
      "Song: Small Town\n",
      "Link: /j/john+mellencamp/small+town_20074448.html\n",
      "Similarity Score: 0.34295381003113634\n"
     ]
    }
   ],
   "source": [
    "# Example lyric snippet (modify as needed)\n",
    "query_lyric = \"raised in the shadows of an old cotton mill Back when believin' was the style Small town\"\n",
    "\n",
    "# Find the best match for the provided lyric snippet\n",
    "best_index, score = find_best_match(query_lyric)\n",
    "\n",
    "# Retrieve and display details of the best matching song\n",
    "best_match = df.iloc[best_index]\n",
    "print(\"Best Match:\")\n",
    "print(\"Artist:\", best_match['artist'])\n",
    "print(\"Song:\", best_match['song'])\n",
    "print(\"Link:\", best_match['link'])\n",
    "print(\"Similarity Score:\", score)"
   ]
  }
 ],
 "metadata": {
  "kernelspec": {
   "display_name": ".venv",
   "language": "python",
   "name": "python3"
  },
  "language_info": {
   "codemirror_mode": {
    "name": "ipython",
    "version": 3
   },
   "file_extension": ".py",
   "mimetype": "text/x-python",
   "name": "python",
   "nbconvert_exporter": "python",
   "pygments_lexer": "ipython3",
   "version": "3.12.4"
  }
 },
 "nbformat": 4,
 "nbformat_minor": 2
}
